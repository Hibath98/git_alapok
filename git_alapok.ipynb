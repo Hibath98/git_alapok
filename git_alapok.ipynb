{
 "metadata": {
  "name": "",
  "signature": "sha256:fd24d04d14cc20acfe4f5317710ac61c41aa7c57a6883f1da2e745298207f772"
 },
 "nbformat": 3,
 "nbformat_minor": 0,
 "worksheets": [
  {
   "cells": [
    {
     "cell_type": "markdown",
     "metadata": {},
     "source": [
      "# Git alapok"
     ]
    },
    {
     "cell_type": "markdown",
     "metadata": {},
     "source": [
      "Git konfigur\u00e1l\u00e1sa:\n",
      "\n",
      "Felhszn\u00e1l\u00f3 nev\u00e9nek be\u00e1ll\u00edt\u00e1sa:\n",
      "git config --global user.name \"Fekete Adri\u00e1n\""
     ]
    },
    {
     "cell_type": "code",
     "collapsed": false,
     "input": [
      "!git config --global user.name \"Fekete Adri\u00e1n\""
     ],
     "language": "python",
     "metadata": {},
     "outputs": [],
     "prompt_number": 9
    },
    {
     "cell_type": "markdown",
     "metadata": {},
     "source": [
      "Felhaszn\u00e1l\u00f3 email c\u00edm\u00e9nek be\u00e1ll\u00edt\u00e1sa:\n",
      "!git config --global user.email \"adrian.fekete98@gmail.com\""
     ]
    },
    {
     "cell_type": "code",
     "collapsed": false,
     "input": [
      "!git config --global user.email \"adrian.fekete98@gmail.com\""
     ],
     "language": "python",
     "metadata": {},
     "outputs": [],
     "prompt_number": 8
    },
    {
     "cell_type": "markdown",
     "metadata": {},
     "source": [
      "Hozzunk l\u00e9tre egy k\u00f6nyvt\u00e1rat"
     ]
    },
    {
     "cell_type": "code",
     "collapsed": false,
     "input": [
      "mkdir project"
     ],
     "language": "python",
     "metadata": {},
     "outputs": [],
     "prompt_number": 15
    },
    {
     "cell_type": "markdown",
     "metadata": {},
     "source": [
      "Menj\u00fcnk bele a k\u00f6nyvt\u00e1rba"
     ]
    },
    {
     "cell_type": "code",
     "collapsed": false,
     "input": [
      "cd project"
     ],
     "language": "python",
     "metadata": {},
     "outputs": [
      {
       "output_type": "stream",
       "stream": "stdout",
       "text": [
        "/home/adrianblack/project\n"
       ]
      }
     ],
     "prompt_number": 16
    },
    {
     "cell_type": "markdown",
     "metadata": {},
     "source": [
      "Inicializ\u00e1ljuk benne a gitet"
     ]
    },
    {
     "cell_type": "code",
     "collapsed": false,
     "input": [
      "!git init"
     ],
     "language": "python",
     "metadata": {},
     "outputs": [
      {
       "output_type": "stream",
       "stream": "stdout",
       "text": [
        "Initialized empty Git repository in /home/adrianblack/project/.git/\r\n"
       ]
      }
     ],
     "prompt_number": 17
    },
    {
     "cell_type": "markdown",
     "metadata": {},
     "source": [
      "Adjuk hozz\u00e1 a k\u00f6nyvt\u00e1rat"
     ]
    },
    {
     "cell_type": "code",
     "collapsed": false,
     "input": [
      "!git add ."
     ],
     "language": "python",
     "metadata": {},
     "outputs": [],
     "prompt_number": 18
    },
    {
     "cell_type": "markdown",
     "metadata": {},
     "source": [
      "Commit paranccsal elind\u00edtjuk"
     ]
    },
    {
     "cell_type": "code",
     "collapsed": false,
     "input": [
      "!git commit"
     ],
     "language": "python",
     "metadata": {},
     "outputs": [
      {
       "output_type": "stream",
       "stream": "stdout",
       "text": [
        "On branch master\r\n",
        "\r\n",
        "Initial commit\r\n",
        "\r\n",
        "nothing to commit\r\n"
       ]
      }
     ],
     "prompt_number": 19
    },
    {
     "cell_type": "markdown",
     "metadata": {},
     "source": [
      "F\u00e1jl l\u00e9trehoz\u00e1sa"
     ]
    },
    {
     "cell_type": "code",
     "collapsed": false,
     "input": [
      "!touch README"
     ],
     "language": "python",
     "metadata": {},
     "outputs": [],
     "prompt_number": 20
    },
    {
     "cell_type": "markdown",
     "metadata": {},
     "source": [
      "A v\u00e1ltoz\u00e1sok megtekint\u00e9s\u00e9hez haszn\u00e1ljuk a status parancsot"
     ]
    },
    {
     "cell_type": "code",
     "collapsed": false,
     "input": [
      "!git status"
     ],
     "language": "python",
     "metadata": {},
     "outputs": [
      {
       "output_type": "stream",
       "stream": "stdout",
       "text": [
        "On branch master\r\n",
        "\r\n",
        "Initial commit\r\n",
        "\r\n",
        "Untracked files:\r\n",
        "  (use \"git add <file>...\" to include in what will be committed)\r\n",
        "\r\n",
        "\t\u001b[31mREADME\u001b[m\r\n",
        "\r\n",
        "nothing added to commit but untracked files present (use \"git add\" to track)\r\n"
       ]
      }
     ],
     "prompt_number": 21
    },
    {
     "cell_type": "markdown",
     "metadata": {},
     "source": [
      "A program javasolja a git add haszn\u00e1lat\u00e1t"
     ]
    },
    {
     "cell_type": "code",
     "collapsed": false,
     "input": [
      "!git add README"
     ],
     "language": "python",
     "metadata": {},
     "outputs": [],
     "prompt_number": 22
    },
    {
     "cell_type": "markdown",
     "metadata": {},
     "source": [
      "Ezek ut\u00e1n v\u00e9gezz\u00fcnk el egy commit-ot, plusz megjegyezz\u00fck a f\u00e1jl l\u00e9trehoz\u00e1s\u00e1t"
     ]
    },
    {
     "cell_type": "code",
     "collapsed": false,
     "input": [
      "!git commit -m 'README l\u00e9trehoz\u00e1sa'"
     ],
     "language": "python",
     "metadata": {},
     "outputs": [
      {
       "output_type": "stream",
       "stream": "stdout",
       "text": [
        "[master (root-commit) ca3344a] README l\u00e9trehoz\u00e1sa\r\n",
        " Committer: Fekete Adri\u00e1n <adrianblack@u106.lan>\r\n",
        "Your name and email address were configured automatically based\r\n",
        "on your username and hostname. Please check that they are accurate.\r\n",
        "You can suppress this message by setting them explicitly:\r\n",
        "\r\n",
        "    git config --global user.name \"Your Name\"\r\n",
        "    git config --global user.email you@example.com\r\n",
        "\r\n",
        "After doing this, you may fix the identity used for this commit with:\r\n",
        "\r\n",
        "    git commit --amend --reset-author\r\n",
        "\r\n",
        " 1 file changed, 0 insertions(+), 0 deletions(-)\r\n",
        " create mode 100644 README\r\n"
       ]
      }
     ],
     "prompt_number": 23
    },
    {
     "cell_type": "markdown",
     "metadata": {},
     "source": [
      "Status paranccsal n\u00e9zz\u00fck mi v\u00e1ltozott"
     ]
    },
    {
     "cell_type": "code",
     "collapsed": false,
     "input": [
      "!git status"
     ],
     "language": "python",
     "metadata": {},
     "outputs": [
      {
       "output_type": "stream",
       "stream": "stdout",
       "text": [
        "On branch master\r\n",
        "nothing to commit, working directory clean\r\n"
       ]
      }
     ],
     "prompt_number": 24
    },
    {
     "cell_type": "code",
     "collapsed": false,
     "input": [],
     "language": "python",
     "metadata": {},
     "outputs": []
    }
   ],
   "metadata": {}
  }
 ]
}